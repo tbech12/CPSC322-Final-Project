{
 "cells": [
  {
   "cell_type": "markdown",
   "metadata": {},
   "source": [
    "# Propose the Project\n"
   ]
  },
  {
   "cell_type": "markdown",
   "metadata": {},
   "source": [
    "### Names of team members and name of project\n",
    "      James Vuong and Troy Bechtold\n",
    "### Dataset description\n",
    "   1. #### Its source, format, and its contents\n",
    "      1. [TMDB 5000 Movie Dataset](https://www.kaggle.com/datasets/tmdb/tmdb-movie-metadata)\n",
    "         1. Attributes\n",
    "            * movie_id\n",
    "            * title\n",
    "            * cast\n",
    "            * crew\n",
    "            * budget\n",
    "            * genres\thomepage\n",
    "            * id\n",
    "            * keywords\n",
    "            * original_language\n",
    "            * original_title\n",
    "            * overview\n",
    "            * popularity\n",
    "            * production_companies\n",
    "            * production_countries\n",
    "            * release_date\n",
    "            * revenue\n",
    "            * runtime\n",
    "            * spoken_languages\n",
    "            * status\n",
    "            * tagline\n",
    "            * title\n",
    "            * vote_average\n",
    "            * vote_count\n",
    "         2. Contains about 5000ish movies with the above attributes. This will be a good dataset to learn on so that we can predict movies a user would like based on certain attributes.\n",
    "      2. [OMDb api](http://www.omdbapi.com/)\n",
    "         1. Attributes\n",
    "            * Title \n",
    "            * Year \n",
    "            * Rated \n",
    "            * Released \n",
    "            * Runtime \n",
    "            * Genre \n",
    "            * Director \n",
    "            * Writer \n",
    "            * Actors \n",
    "            * Plot \n",
    "            * Language \n",
    "            * Country \n",
    "            * Awards \n",
    "            * Poster \n",
    "            * Ratings \n",
    "            * Metascore \n",
    "            * imdbRating \n",
    "            * imdbVotes \n",
    "            * imdbID \n",
    "            * Type \n",
    "            * DVD \n",
    "            * BoxOffice \n",
    "            * Production \n",
    "            * Website \n",
    "            * Response\n",
    "         2. Contains a large data set that is full of Movies. This is also something we can train on that will let us better predict Movies a person should checkout based on their inputs. A lot of these attribute we do not plan to use but we will use mostly information around Movies and the Genres.\n",
    "   2. #### Include a brief description of the attributes and what you will use as class information (i.e., what attribute(s) you will try to predict).\n",
    "      1. We will use *Title, Year, Rating, Runtime, Genre, Popularity, Meta score, IMDb Rating, IMDb Votes, IMDb ID, Keywords*. These attributes will be our best attributes to predict what a user would want to watch. These are the most important attributes that can link a Movie to another Movie that would fit users the best.\n",
    "1. ### Implementation/technical merit\n",
    "   1. Anticipated challenges in pre-processing and/or classification\n",
    "      1. The attributes have some they can join on but it does have a number of columns that will have to be renamed. Another issue is that it may not cover all possible cases and could leave a user left without an answer or with an answer that is completely wrong.\n",
    "   2. If the number of attributes is large, how will you explore feature selection techniques to pare down the attributes?\n",
    "      1. The number of attributes we will not be to large but the number of attributes that are not going to use to train the classifiers could be an issue. This is where the feature could be build upon such as a filtering option for predictions. Reducing the other attributes would help to simplify the training model. The rest of the attributes are necessary and required to correctly predict a movie a user would use. \n",
    "2. ### Potential impact of the results\n",
    "   1. Why are these results useful?\n",
    "      1. While users watch a lot of movies they will be in need of a new movie and it can be difficult to find movies. The use of this dataset would be allow help users to find a movie that they can watch quickly and efficiently. \n",
    "   2. Who are stakeholders (users/groups that are impacted by the outcome of the project) interested in these results?\n",
    "      1. Movie Watchers\n",
    "      2. Netflix\n",
    "      3. Amazon Prime\n",
    "      4. Disney+\n",
    "   "
   ]
  }
 ],
 "metadata": {
  "interpreter": {
   "hash": "d4d1e4263499bec80672ea0156c357c1ee493ec2b1c70f0acce89fc37c4a6abe"
  },
  "kernelspec": {
   "display_name": "Python 3.9.7 ('base')",
   "language": "python",
   "name": "python3"
  },
  "language_info": {
   "codemirror_mode": {
    "name": "ipython",
    "version": 3
   },
   "file_extension": ".py",
   "mimetype": "text/x-python",
   "name": "python",
   "nbconvert_exporter": "python",
   "pygments_lexer": "ipython3",
   "version": "3.9.7"
  },
  "orig_nbformat": 4
 },
 "nbformat": 4,
 "nbformat_minor": 2
}
