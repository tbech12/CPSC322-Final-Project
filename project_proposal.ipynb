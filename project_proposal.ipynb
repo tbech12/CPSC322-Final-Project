{
 "cells": [
  {
   "cell_type": "markdown",
   "metadata": {},
   "source": [
    "# **PROJECT NAME**\n",
    "Troy Bechtold and James Vuong"
   ]
  },
  {
   "cell_type": "markdown",
   "metadata": {},
   "source": [
    "### **DATASET DESCRIPTION**\n",
    "1. **[TMDB 5000 Movie Dataset](https://www.kaggle.com/datasets/tmdb/tmdb-movie-metadata)**  \n",
    "This dataset is from `kaggle.com` and derives metadata from approximately 5000 movies from The .Movie Database (TMDb). This dataset would be good to learn on so that we can predict movie(s) that a user would like based on certain attribute labels. Attributes of the dataset are listed below:\n",
    "* movie_id\n",
    "* title\n",
    "* cast\n",
    "* crew\n",
    "* budget\n",
    "* genres\thomepage\n",
    "* id\n",
    "* keywords\n",
    "* original_language\n",
    "* original_title\n",
    "* overview\n",
    "* popularity\n",
    "* production_companies\n",
    "* production_countries\n",
    "* release_date\n",
    "* revenue\n",
    "* runtime\n",
    "* spoken_languages\n",
    "* status\n",
    "* tagline\n",
    "* title\n",
    "* vote_average\n",
    "* vote_count\n",
    "\n",
    "2. **[OMDb api](http://www.omdbapi.com/)**  \n",
    "This dataset is from `omdbapi.com` and also contains a large data set that is full of movies and their respective attributes. This is also something we can train on that will let us better predict movies a user could possibly be interested on their preferred attribute inputs. Attributes of the dataset are listed below:\n",
    "* Title \n",
    "* Year \n",
    "* Rated \n",
    "* Released \n",
    "* Runtime \n",
    "* Genre \n",
    "* Director \n",
    "* Writer \n",
    "* Actors \n",
    "* Plot \n",
    "* Language \n",
    "* Country \n",
    "* Awards \n",
    "* Poster \n",
    "* Ratings \n",
    "* Metascore \n",
    "* imdbRating \n",
    "* imdbVotes \n",
    "* imdbID \n",
    "* Type \n",
    "* DVD \n",
    "* BoxOffice \n",
    "* Production \n",
    "* Website \n",
    "* Response\n",
    "\n",
    "We will use the *Title, Year, Rating, Runtime, Genre, Popularity, Meta score, IMDb Rating, IMDb Votes, IMDb ID, Keywords* attributes. These attributes will be our best attributes to predict what a user would want to watch. These are the most important attributes that can link a Movie to another Movie that would fit users the best."
   ]
  },
  {
   "cell_type": "markdown",
   "metadata": {},
   "source": [
    "### **IMPLEMENTATION/TECHNICAL MERIT**\n",
    "\n",
    "The attributes have some they can join on but it does have a number of columns that will have to be renamed. Another issue is that it may not cover all possible cases and could leave a user left without an answer or with an answer that is completely wrong.\n",
    "\n",
    "The number of attributes we will not be too large but the number of attributes that are not going to use to train the classifiers could be an issue. This is where the feature could be build upon such as a filtering option for predictions. Reducing the other attributes would help to simplify the training model. The rest of the attributes are necessary and required to correctly predict a movie a user would use. "
   ]
  },
  {
   "cell_type": "markdown",
   "metadata": {},
   "source": [
    "### **POTENTIAL IMPACTS**\n",
    "\n",
    "These results are useful because while users watch a lot of movies they will be in need of a new movie and it can be difficult to find movies. The use of this dataset would be allow help users to find a movie that they can watch quickly and efficiently. \n",
    "\n",
    "Stakholders include:\n",
    "1. Movie Watchers\n",
    "2. Netflix\n",
    "3. Amazon Prime\n",
    "4. Disney+\n"
   ]
  }
 ],
 "metadata": {
  "interpreter": {
   "hash": "d4d1e4263499bec80672ea0156c357c1ee493ec2b1c70f0acce89fc37c4a6abe"
  },
  "kernelspec": {
   "display_name": "Python 3.9.7 ('base')",
   "language": "python",
   "name": "python3"
  },
  "language_info": {
   "codemirror_mode": {
    "name": "ipython",
    "version": 3
   },
   "file_extension": ".py",
   "mimetype": "text/x-python",
   "name": "python",
   "nbconvert_exporter": "python",
   "pygments_lexer": "ipython3",
   "version": "3.9.7"
  },
  "orig_nbformat": 4
 },
 "nbformat": 4,
 "nbformat_minor": 2
}
